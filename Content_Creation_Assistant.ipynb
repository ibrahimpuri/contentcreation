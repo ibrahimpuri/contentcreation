{
 "cells": [
  {
   "cell_type": "markdown",
   "id": "9c76a2d4",
   "metadata": {},
   "source": [
    "# Content Creation Assistant with ChatGPT, RAG, Gemini Pro API, and LangChain"
   ]
  },
  {
   "cell_type": "markdown",
   "id": "849d5b1a",
   "metadata": {},
   "source": [
    "\n",
    "## Introduction\n",
    "This Jupyter notebook demonstrates how to build a Content Creation Assistant using ChatGPT, Retrieval Augmented Generation (RAG), Gemini Pro API, and LangChain. The assistant helps writers generate ideas, draft articles, and refine their content through advanced AI techniques.\n"
   ]
  },
  {
   "cell_type": "markdown",
   "id": "7e587c76",
   "metadata": {},
   "source": [
    "## Setup\n",
    "In this section, we import the necessary libraries (`os` and `openai`) and set up the OpenAI API key. Make sure to replace `\"your-api-key-here\"` with your actual OpenAI API key."
   ]
  },
  {
   "cell_type": "code",
   "execution_count": 9,
   "id": "13291dfd",
   "metadata": {},
   "outputs": [
    {
     "name": "stdout",
     "output_type": "stream",
     "text": [
      "Error setting API keys: API keys not found in environment variables.\n"
     ]
    }
   ],
   "source": [
    "import os\n",
    "import openai\n",
    "import langchain\n",
    "\n",
    "openai.api_key = os.environ.get(\"OPENAI_API_KEY\")\n",
    "langchain_api_key = os.environ.get(\"LANGCHAIN_API_KEY\")\n",
    "\n",
    "# Exception handling\n",
    "if not openai.api_key or not langchain_api_key:\n",
    "    print(\"Error setting API keys: API keys not found in environment variables.\")\n",
    "else:\n",
    "    try:\n",
    "        # Your code here\n",
    "        pass\n",
    "    except Exception as e:\n",
    "        print(f\"Error: {e}\")"
   ]
  },
  {
   "cell_type": "markdown",
   "id": "47e00c96",
   "metadata": {},
   "source": [
    "## Document Retrieval\n",
    "The `retrieve_documents` function simulates the retrieval of relevant documents based on a given query. In this example, it returns a concatenated string of two hardcoded documents. In a real-world scenario, you would replace this with a function that retrieves actual documents from a database or an external source."
   ]
  },
  {
   "cell_type": "code",
   "execution_count": 10,
   "id": "dc284fa7",
   "metadata": {},
   "outputs": [],
   "source": [
    "def retrieve_documents(query):\n",
    "    try:\n",
    "        # Simulate document retrieval\n",
    "        retrieved_docs = [\"Document 1 content.\", \"Document 2 content.\"]\n",
    "        return \" \".join(retrieved_docs)\n",
    "    except Exception as e:\n",
    "        print(f\"Error retrieving documents: {e}\")\n",
    "        return \"\""
   ]
  },
  {
   "cell_type": "markdown",
   "id": "c8d7b601",
   "metadata": {},
   "source": [
    "## Content Generation\n",
    "The `generate_content` function takes a topic as input and generates a detailed article based on that topic. It first retrieves relevant documents using the `retrieve_documents` function. Then, it constructs a prompt by combining the retrieved documents and the topic. Finally, it uses the OpenAI ChatCompletion API to generate a response using the GPT-3.5-turbo model."
   ]
  },
  {
   "cell_type": "code",
   "execution_count": 5,
   "id": "afeb5d4e",
   "metadata": {},
   "outputs": [],
   "source": [
    "import openai\n",
    "\n",
    "def generate_content(topic):\n",
    "    try:\n",
    "        # Retrieve context\n",
    "        context = retrieve_documents(topic)\n",
    "        \n",
    "        # Define a prompt\n",
    "        prompt = f\"Based on the following documents: {context}, write a detailed article about {topic}.\"\n",
    "    \n",
    "        # Generate a response using ChatGPT\n",
    "        response = openai.ChatCompletion.create(\n",
    "            model=\"text-davinci-003\",\n",
    "            messages=[{\"role\": \"user\", \"content\": prompt}],\n",
    "            max_tokens=500\n",
    "        )\n",
    "        \n",
    "        return response.choices[0].message.content.strip()\n",
    "    except Exception as e:\n",
    "        print(f\"Error generating content: {e}\")\n",
    "        return \"\""
   ]
  },
  {
   "cell_type": "markdown",
   "id": "3c5b9a37",
   "metadata": {},
   "source": [
    "## Content Refinement\n",
    "The `refine_content` function is a placeholder for content refinement. In this example, it simply returns the original article without any modifications. You can enhance this function by integrating content refinement techniques such as summarization, grammar correction, or style enhancement using additional libraries or APIs."
   ]
  },
  {
   "cell_type": "code",
   "execution_count": 4,
   "id": "16f9ab09",
   "metadata": {},
   "outputs": [],
   "source": [
    "def refine_content(article):\n",
    "    try:\n",
    "        # Define a workflow\n",
    "        workflow = langchain.Workflow()\n",
    "    \n",
    "        # Add tasks to the workflow\n",
    "        workflow.add_task('Summarize', params={'text': article, 'max_length': 100})\n",
    "        workflow.add_task('GrammarCheck', params={'text': article})\n",
    "        workflow.add_task('Enhance', params={'text': article, 'style': 'formal'})\n",
    "    \n",
    "        # Execute the workflow\n",
    "        result = workflow.execute()\n",
    "    \n",
    "        return result\n",
    "    except Exception as e:\n",
    "        print(f\"Error refining content: {e}\")\n",
    "        return article\n"
   ]
  },
  {
   "cell_type": "markdown",
   "id": "e46bdf66",
   "metadata": {},
   "source": [
    "## Content Creation Assistant\n",
    "The `content_creation_assistant` function orchestrates the content creation process. It takes a topic as input and performs the following steps:\n",
    "1. Generates content using the `generate_content` function.\n",
    "2. Refines the generated content using the `refine_content` function (placeholder implementation).\n",
    "3. Prints the generated and refined articles.\n",
    "4. Returns the refined article."
   ]
  },
  {
   "cell_type": "markdown",
   "id": "bedaca46",
   "metadata": {},
   "source": [
    "## Example Usage\n",
    "In this section, we provide an example usage of the `content_creation_assistant` function. We set the topic to \"The impact of renewable energy on the environment\" and call the `content_creation_assistant` function with this topic. The generated and refined articles are printed, and the refined article is stored in the `final_article` variable."
   ]
  },
  {
   "cell_type": "markdown",
   "id": "a82968ad",
   "metadata": {},
   "source": [
    "## Visualization\n",
    "The `visualize_content` function is a placeholder for visualizing the content length before and after refinement. It creates a bar chart comparing the word count of the original and refined articles using the `matplotlib` library.\n",
    "\n",
    "In the example usage, we call the `visualize_content` function with the original article (generated using `generate_content`) and the final refined article (`final_article`)."
   ]
  },
  {
   "cell_type": "code",
   "execution_count": null,
   "id": "70a6abe4-2e2b-42a8-a997-b09a5e567707",
   "metadata": {},
   "outputs": [
    {
     "name": "stdout",
     "output_type": "stream",
     "text": [
      "Generated Article:\n",
      " Renewable energy sources have become increasingly popular in recent years as a way to combat climate change and reduce our dependence on fossil fuels. The impact of renewable energy on the environment is a topic of great interest and research, with many experts weighing in on the benefits and drawbacks of switching to clean energy sources.\n",
      "\n",
      "Document 1 highlights the positive impact of renewable energy on the environment. In particular, it points out that renewable energy sources such as solar and wind power produce significantly lower levels of greenhouse gas emissions compared to traditional fossil fuels. This is crucial in the fight against climate change, as reducing emissions is essential in preventing further damage to the environment.\n",
      "\n",
      "Document 2 discusses the benefits of renewable energy in terms of reducing air pollution and improving air quality. Traditional energy sources such as coal and oil are major contributors to air pollution, which can have serious health effects on humans and wildlife. By transitioning to renewable energy sources, we can significantly reduce air pollution and improve the overall quality of the air we breathe.\n",
      "\n",
      "Overall, the impact of renewable energy on the environment is overwhelmingly positive. Not only does it help reduce greenhouse gas emissions and combat climate change, but it also helps improve air quality and reduce pollution. Additionally, many renewable energy sources, such as solar and wind power, are inexhaustible and can be harnessed in a sustainable manner.\n",
      "\n",
      "In conclusion, the shift towards renewable energy is essential in protecting our environment and ensuring a sustainable future for generations to come. By investing in clean energy sources and reducing our reliance on fossil fuels, we can make a significant impact on the health of our planet and create a more sustainable world for all.\n",
      "Refined Article:\n",
      " Renewable energy sources have become increasingly popular in recent years as a way to combat climate change and reduce our dependence on fossil fuels. The impact of renewable energy on the environment is a topic of great interest and research, with many experts weighing in on the benefits and drawbacks of switching to clean energy sources.\n",
      "\n",
      "Document 1 highlights the positive impact of renewable energy on the environment. In particular, it points out that renewable energy sources such as solar and wind power produce significantly lower levels of greenhouse gas emissions compared to traditional fossil fuels. This is crucial in the fight against climate change, as reducing emissions is essential in preventing further damage to the environment.\n",
      "\n",
      "Document 2 discusses the benefits of renewable energy in terms of reducing air pollution and improving air quality. Traditional energy sources such as coal and oil are major contributors to air pollution, which can have serious health effects on humans and wildlife. By transitioning to renewable energy sources, we can significantly reduce air pollution and improve the overall quality of the air we breathe.\n",
      "\n",
      "Overall, the impact of renewable energy on the environment is overwhelmingly positive. Not only does it help reduce greenhouse gas emissions and combat climate change, but it also helps improve air quality and reduce pollution. Additionally, many renewable energy sources, such as solar and wind power, are inexhaustible and can be harnessed in a sustainable manner.\n",
      "\n",
      "In conclusion, the shift towards renewable energy is essential in protecting our environment and ensuring a sustainable future for generations to come. By investing in clean energy sources and reducing our reliance on fossil fuels, we can make a significant impact on the health of our planet and create a more sustainable world for all.\n"
     ]
    }
   ],
   "source": [
    "import os\n",
    "import openai\n",
    "\n",
    "# Set your OpenAI API key here\n",
    "openai.api_key = \"your OPEN-API_KEY\"\n",
    "\n",
    "def retrieve_documents(query):\n",
    "    try:\n",
    "        # Simulate document retrieval\n",
    "        retrieved_docs = [\"Document 1 content.\", \"Document 2 content.\"]\n",
    "        return \" \".join(retrieved_docs)\n",
    "    except Exception as e:\n",
    "        print(f\"Error retrieving documents: {e}\")\n",
    "        return \"\"\n",
    "\n",
    "def generate_content(topic):\n",
    "    try:\n",
    "        # Retrieve context\n",
    "        context = retrieve_documents(topic)\n",
    "        \n",
    "        # Define a prompt\n",
    "        prompt = f\"Based on the following documents: {context}, write a detailed article about {topic}.\"\n",
    "    \n",
    "        # Generate a response using ChatGPT\n",
    "        response = openai.ChatCompletion.create(\n",
    "            model=\"gpt-3.5-turbo\",\n",
    "            messages=[{\"role\": \"user\", \"content\": prompt}],\n",
    "            max_tokens=500\n",
    "        )\n",
    "        \n",
    "        return response.choices[0].message.content.strip()\n",
    "    except Exception as e:\n",
    "        print(f\"Error generating content: {e}\")\n",
    "        return \"\"\n",
    "\n",
    "def refine_content(article):\n",
    "    try:\n",
    "        # Placeholder for content refinement\n",
    "        refined_article = article\n",
    "        return refined_article\n",
    "    except Exception as e:\n",
    "        print(f\"Error refining content: {e}\")\n",
    "        return article\n",
    "\n",
    "def content_creation_assistant(topic):\n",
    "    # Step 1: Generate content\n",
    "    article = generate_content(topic)\n",
    "    print(\"Generated Article:\\n\", article)\n",
    "\n",
    "    # Step 2: Refine content\n",
    "    refined_article = refine_content(article)\n",
    "    print(\"Refined Article:\\n\", refined_article)\n",
    "\n",
    "    return refined_article\n",
    "\n",
    "# Example Usage\n",
    "topic = \"The impact of renewable energy on the environment\"\n",
    "final_article = content_creation_assistant(topic)\n",
    "\n",
    "# Visualization (Placeholder)\n",
    "import matplotlib.pyplot as plt\n",
    "\n",
    "def visualize_content(original, refined):\n",
    "    labels = ['Original', 'Refined']\n",
    "    lengths = [len(original.split()), len(refined.split())]\n",
    "\n",
    "    plt.bar(labels, lengths)\n",
    "    plt.ylabel('Word Count')\n",
    "    plt.title('Content Length Before and After Refinement')\n",
    "    plt.show()\n",
    "\n",
    "visualize_content(generate_content(topic), final_article)"
   ]
  },
  {
   "cell_type": "code",
   "execution_count": null,
   "id": "8f88f83d-adbd-4955-8138-9aeb12d6bd42",
   "metadata": {},
   "outputs": [],
   "source": []
  }
 ],
 "metadata": {
  "kernelspec": {
   "display_name": "Python 3 (ipykernel)",
   "language": "python",
   "name": "python3"
  },
  "language_info": {
   "codemirror_mode": {
    "name": "ipython",
    "version": 3
   },
   "file_extension": ".py",
   "mimetype": "text/x-python",
   "name": "python",
   "nbconvert_exporter": "python",
   "pygments_lexer": "ipython3",
   "version": "3.11.7"
  }
 },
 "nbformat": 4,
 "nbformat_minor": 5
}
